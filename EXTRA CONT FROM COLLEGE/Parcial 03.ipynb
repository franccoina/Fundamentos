'''PARCIAL NO. 3:

DAVID FRANCISCO BLANDÓN MENA
JUAN JOSÉ BEDOYA'''

'''PUNTO 1: Sistema de calificaciones'''

calificaciones = {}

def menu():
    while (True):
        print('''
BIENVENIDO AL SISTEMA DE CALIFICACIONES:
            
    1. Agregar y actualizar estudiante y su calificacion.
    2. Consultar calificacion de un estudiante.
    3. Cerrar sistema.
    ''')
        opcion = str(input("Escribe aqui la opcion que deseas realizar: "))
        
        if opcion=='1':
            agregarCalificaciones()
        elif opcion=='2':
            consultaCalificaciones()
        elif opcion=='3':
            break
        else:
            print('\n       La opcion no es valida.\n')
        

def agregarCalificaciones():
    try:
        nombre = str(input("\nIngresar el nombre del estudiante: "))
        calificacion = str(input("\nIngresar la calificacion del estudiante: "))
        calificacionFloat = float(calificacion)
        calificaciones[nombre]=calificacionFloat
        print('')
        print(calificaciones)
    except:
        print('\n       La entrada en calificaciones no puede ser de texto.')

def consultaCalificaciones():
    nombreConsulta = str(input("\nIngresar el nombre del estudiante que desea consultar: "))
    if bool(calificaciones.get(nombreConsulta,None)):
        print(f'\n      La calificacion del estudiante {nombreConsulta} es: {calificaciones.get(nombreConsulta,None)}')
    else:
        print('\n       El estudiante no fue encontrado.')
        
menu()

'''PUNTO 2: Conteo de Vocales'''

# print('''
#                                 BIENVENIDO AL CONTADOR DE VOCALES:
            
# ----------------------------------------- ¡Diviértete! -----------------------------------------
#     ''')

# textoConteoVocales = str(input('\nIngresa una cadena de texto de tu preferencia: ')) 
# contadorVocal = 0
# contadorVocales = {}

# for letra in textoConteoVocales:
#     if letra == 'a' or letra == 'e' or letra == 'i' or letra == 'o' or letra == 'u':
#         if bool(contadorVocales.get(letra,None)):   
#             contadorVocales[letra]=contadorVocales.get(letra,None)+1
#         else:
#             contadorVocales[letra]=1

# print('')

# for letra, cantidad in contadorVocales.items():
#     print(f'La letra {letra} esta {cantidad} veces.\n')

'''PUNTO 3: Nombre de Usuario'''
        
# usuarioCorrecto = 'josecarlos12'

# intentos = 3

# print('''
#                                 BIENVENIDO AL PORTAL DE ITM SIA:
            
# ----------------------------------------- ¡Diviértete! -----------------------------------------
#     ''')

# while intentos > 0:
#     usuarioAValidar = str(input('\nEscribe el nombre de usuario para ingresar: '))
#     if usuarioAValidar.upper() == usuarioCorrecto.upper():
#         print(f'\n¡BIENVENIDO usuario {usuarioAValidar}, a nuestro Portal!\n')
#         break
#     else:
#         intentos -= 1
#         print(f'\n¡Oops! No es correcto. Te quedan solo {intentos} intentos.')

# if intentos == 0:
#     print('\nEl sistema esta bloqueado. Demasiados intentos.\n')
        



